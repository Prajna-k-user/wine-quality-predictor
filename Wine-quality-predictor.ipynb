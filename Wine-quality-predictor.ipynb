{
 "cells": [
  {
   "cell_type": "markdown",
   "id": "4e41facb",
   "metadata": {},
   "source": [
    "# 🍷 Wine Quality Prediction using Logistic Regression"
   ]
  },
  {
   "cell_type": "markdown",
   "id": "7b1da0f3",
   "metadata": {},
   "source": [
    "\n",
    "This project demonstrates a machine learning approach to predict the quality of red wine using the UCI Wine Quality dataset.\n",
    "\n",
    "We perform exploratory data analysis (EDA), build a logistic regression model, evaluate it using accuracy and confusion matrix, and draw meaningful conclusions.\n"
   ]
  },
  {
   "cell_type": "code",
   "execution_count": null,
   "id": "ac6050ba",
   "metadata": {},
   "outputs": [],
   "source": [
    "import pandas as pd\n",
    "import matplotlib.pyplot as plt\n",
    "import seaborn as sns\n",
    "\n",
    "# Load dataset\n",
    "df = pd.read_csv(\"winequality-red.csv\")\n",
    "df.head()"
   ]
  },
  {
   "cell_type": "code",
   "execution_count": null,
   "id": "bfbb3def",
   "metadata": {},
   "outputs": [],
   "source": [
    "# Overview of dataset\n",
    "df.describe()"
   ]
  },
  {
   "cell_type": "code",
   "execution_count": null,
   "id": "5347ab8f",
   "metadata": {},
   "outputs": [],
   "source": [
    "# Check for missing values\n",
    "df.info()"
   ]
  },
  {
   "cell_type": "markdown",
   "id": "c8b7d27a",
   "metadata": {},
   "source": [
    "## 📊 Feature Distributions"
   ]
  },
  {
   "cell_type": "code",
   "execution_count": null,
   "id": "6b95e101",
   "metadata": {},
   "outputs": [],
   "source": [
    "df.hist(bins=15, figsize=(15, 10), color='skyblue', edgecolor='black')\n",
    "plt.suptitle(\"Feature Distributions\", fontsize=16)\n",
    "plt.tight_layout()\n",
    "plt.show()"
   ]
  },
  {
   "cell_type": "markdown",
   "id": "6516b1a5",
   "metadata": {},
   "source": [
    "## 🔗 Correlation Heatmap"
   ]
  },
  {
   "cell_type": "code",
   "execution_count": null,
   "id": "8c8fdc26",
   "metadata": {},
   "outputs": [],
   "source": [
    "plt.figure(figsize=(12, 8))\n",
    "sns.heatmap(df.corr(), annot=True, cmap='coolwarm', fmt='.2f')\n",
    "plt.title(\"Correlation between features\")\n",
    "plt.show()"
   ]
  },
  {
   "cell_type": "markdown",
   "id": "11cbb9d7",
   "metadata": {},
   "source": [
    "##  Create Binary Classification Target"
   ]
  },
  {
   "cell_type": "code",
   "execution_count": null,
   "id": "dd44795d",
   "metadata": {},
   "outputs": [],
   "source": [
    "# Wines with quality >= 7 are considered 'good' (1), else 'not good' (0)\n",
    "df['quality_label'] = (df['quality'] >= 7).astype(int)\n",
    "df['quality_label'].value_counts()"
   ]
  },
  {
   "cell_type": "markdown",
   "id": "9d9c7cd0",
   "metadata": {},
   "source": [
    "##  Model Training - Logistic Regression"
   ]
  },
  {
   "cell_type": "code",
   "execution_count": null,
   "id": "40bfeffd",
   "metadata": {},
   "outputs": [],
   "source": [
    "from sklearn.model_selection import train_test_split\n",
    "from sklearn.linear_model import LogisticRegression\n",
    "\n",
    "X = df.drop(['quality', 'quality_label'], axis=1)\n",
    "y = df['quality_label']\n",
    "\n",
    "X_train, X_test, y_train, y_test = train_test_split(X, y, test_size=0.2, random_state=42)\n",
    "\n",
    "model = LogisticRegression(max_iter=1000)\n",
    "model.fit(X_train, y_train)"
   ]
  },
  {
   "cell_type": "markdown",
   "id": "d3fb9289",
   "metadata": {},
   "source": [
    "## 📈 Model Evaluation"
   ]
  },
  {
   "cell_type": "code",
   "execution_count": null,
   "id": "51e819ae",
   "metadata": {},
   "outputs": [],
   "source": [
    "from sklearn.metrics import accuracy_score, classification_report, confusion_matrix\n",
    "\n",
    "y_pred = model.predict(X_test)\n",
    "\n",
    "acc = accuracy_score(y_test, y_pred)\n",
    "print(f\"✅ Accuracy: {acc:.2%}\\n\")\n",
    "\n",
    "print(\"📋 Classification Report:\")\n",
    "print(classification_report(y_test, y_pred))"
   ]
  },
  {
   "cell_type": "code",
   "execution_count": null,
   "id": "4bf9a574",
   "metadata": {},
   "outputs": [],
   "source": [
    "cm = confusion_matrix(y_test, y_pred)\n",
    "sns.heatmap(cm, annot=True, fmt='d', cmap='Blues', xticklabels=['Not Good', 'Good'], yticklabels=['Not Good', 'Good'])\n",
    "plt.xlabel(\"Predicted\")\n",
    "plt.ylabel(\"Actual\")\n",
    "plt.title(\"Confusion Matrix\")\n",
    "plt.show()"
   ]
  },
  {
   "cell_type": "markdown",
   "id": "503ad5f5",
   "metadata": {},
   "source": [
    "## ✅ Conclusion"
   ]
  },
  {
   "cell_type": "markdown",
   "id": "b2983888",
   "metadata": {},
   "source": [
    "\n",
    "- Logistic Regression achieved an accuracy of over **80%**.\n",
    "- The dataset is slightly imbalanced, so additional metrics like F1-score and confusion matrix are valuable.\n",
    "- With more advanced models (e.g., Random Forest, XGBoost), we could likely improve results further.\n",
    "\n",
    "This notebook is a great demonstration of a full ML pipeline — from data understanding to deployment readiness.\n"
   ]
  }
 ],
 "metadata": {},
 "nbformat": 4,
 "nbformat_minor": 5
}
