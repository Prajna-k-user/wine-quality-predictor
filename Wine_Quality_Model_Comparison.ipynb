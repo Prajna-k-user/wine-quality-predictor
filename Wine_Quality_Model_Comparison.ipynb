{
 "cells": [
  {
   "cell_type": "markdown",
   "id": "f09ca821",
   "metadata": {},
   "source": [
    "# 🍷 Wine Quality Prediction: Logistic Regression vs Random Forest"
   ]
  },
  {
   "cell_type": "markdown",
   "id": "6ebd2f47",
   "metadata": {},
   "source": [
    "\n",
    "This notebook compares two models — **Logistic Regression** and **Random Forest** — to predict wine quality  \n",
    "using the UCI Red Wine Quality dataset.\n",
    "\n",
    "We go through data cleaning, visualization, model training, evaluation, and comparison.\n"
   ]
  },
  {
   "cell_type": "code",
   "execution_count": null,
   "id": "faeff9bf",
   "metadata": {},
   "outputs": [],
   "source": [
    "import pandas as pd\n",
    "import matplotlib.pyplot as plt\n",
    "import seaborn as sns\n",
    "\n",
    "# Load dataset\n",
    "df = pd.read_csv(\"winequality-red.csv\")\n",
    "df.head()"
   ]
  },
  {
   "cell_type": "code",
   "execution_count": null,
   "id": "c530ae25",
   "metadata": {},
   "outputs": [],
   "source": [
    "df.describe()"
   ]
  },
  {
   "cell_type": "code",
   "execution_count": null,
   "id": "b6fed97b",
   "metadata": {},
   "outputs": [],
   "source": [
    "df.info()"
   ]
  },
  {
   "cell_type": "markdown",
   "id": "baa4e04c",
   "metadata": {},
   "source": [
    "## 📊 Feature Distributions"
   ]
  },
  {
   "cell_type": "code",
   "execution_count": null,
   "id": "6a0437fe",
   "metadata": {},
   "outputs": [],
   "source": [
    "df.hist(bins=15, figsize=(15, 10), color='salmon', edgecolor='black')\n",
    "plt.suptitle(\"Feature Distributions\", fontsize=16)\n",
    "plt.tight_layout()\n",
    "plt.show()"
   ]
  },
  {
   "cell_type": "markdown",
   "id": "95029da7",
   "metadata": {},
   "source": [
    "## 🔗 Correlation Heatmap"
   ]
  },
  {
   "cell_type": "code",
   "execution_count": null,
   "id": "27ced16c",
   "metadata": {},
   "outputs": [],
   "source": [
    "plt.figure(figsize=(12, 8))\n",
    "sns.heatmap(df.corr(), annot=True, cmap='coolwarm', fmt='.2f')\n",
    "plt.title(\"Feature Correlation Heatmap\")\n",
    "plt.show()"
   ]
  },
  {
   "cell_type": "markdown",
   "id": "cf5cc610",
   "metadata": {},
   "source": [
    "## 🎯 Target Column Creation"
   ]
  },
  {
   "cell_type": "code",
   "execution_count": null,
   "id": "d25c57ff",
   "metadata": {},
   "outputs": [],
   "source": [
    "# Binary classification: quality >= 7 is 'good'\n",
    "df['quality_label'] = (df['quality'] >= 7).astype(int)\n",
    "df['quality_label'].value_counts(normalize=True)"
   ]
  },
  {
   "cell_type": "code",
   "execution_count": null,
   "id": "9fd3179d",
   "metadata": {},
   "outputs": [],
   "source": [
    "from sklearn.model_selection import train_test_split\n",
    "\n",
    "X = df.drop(['quality', 'quality_label'], axis=1)\n",
    "y = df['quality_label']\n",
    "X_train, X_test, y_train, y_test = train_test_split(X, y, test_size=0.2, random_state=42)"
   ]
  },
  {
   "cell_type": "markdown",
   "id": "49fd7278",
   "metadata": {},
   "source": [
    "## 🤖 Model 1: Logistic Regression"
   ]
  },
  {
   "cell_type": "code",
   "execution_count": null,
   "id": "b1af6676",
   "metadata": {},
   "outputs": [],
   "source": [
    "from sklearn.linear_model import LogisticRegression\n",
    "from sklearn.metrics import accuracy_score, classification_report, confusion_matrix\n",
    "\n",
    "logreg = LogisticRegression(max_iter=1000)\n",
    "logreg.fit(X_train, y_train)\n",
    "y_pred_lr = logreg.predict(X_test)\n",
    "acc_lr = accuracy_score(y_test, y_pred_lr)\n",
    "\n",
    "print(f\"Logistic Regression Accuracy: {acc_lr:.2%}\")\n",
    "print(classification_report(y_test, y_pred_lr))"
   ]
  },
  {
   "cell_type": "markdown",
   "id": "fcd60b3c",
   "metadata": {},
   "source": [
    "## 🌲 Model 2: Random Forest Classifier"
   ]
  },
  {
   "cell_type": "code",
   "execution_count": null,
   "id": "2c760519",
   "metadata": {},
   "outputs": [],
   "source": [
    "from sklearn.ensemble import RandomForestClassifier\n",
    "\n",
    "rf = RandomForestClassifier(n_estimators=100, random_state=42)\n",
    "rf.fit(X_train, y_train)\n",
    "y_pred_rf = rf.predict(X_test)\n",
    "acc_rf = accuracy_score(y_test, y_pred_rf)\n",
    "\n",
    "print(f\"Random Forest Accuracy: {acc_rf:.2%}\")\n",
    "print(classification_report(y_test, y_pred_rf))"
   ]
  },
  {
   "cell_type": "markdown",
   "id": "b7322a0b",
   "metadata": {},
   "source": [
    "## 🔍 Confusion Matrices"
   ]
  },
  {
   "cell_type": "code",
   "execution_count": null,
   "id": "12064a7a",
   "metadata": {},
   "outputs": [],
   "source": [
    "fig, axes = plt.subplots(1, 2, figsize=(12, 5))\n",
    "\n",
    "sns.heatmap(confusion_matrix(y_test, y_pred_lr), annot=True, fmt='d', cmap='Blues', ax=axes[0])\n",
    "axes[0].set_title(\"Logistic Regression\")\n",
    "axes[0].set_xlabel(\"Predicted\")\n",
    "axes[0].set_ylabel(\"Actual\")\n",
    "\n",
    "sns.heatmap(confusion_matrix(y_test, y_pred_rf), annot=True, fmt='d', cmap='Greens', ax=axes[1])\n",
    "axes[1].set_title(\"Random Forest\")\n",
    "axes[1].set_xlabel(\"Predicted\")\n",
    "axes[1].set_ylabel(\"Actual\")\n",
    "\n",
    "plt.tight_layout()\n",
    "plt.show()"
   ]
  },
  {
   "cell_type": "markdown",
   "id": "f8a2a138",
   "metadata": {},
   "source": [
    "## 📊 Accuracy Comparison"
   ]
  },
  {
   "cell_type": "code",
   "execution_count": null,
   "id": "22edcb34",
   "metadata": {},
   "outputs": [],
   "source": [
    "models = ['Logistic Regression', 'Random Forest']\n",
    "accuracies = [acc_lr * 100, acc_rf * 100]\n",
    "\n",
    "plt.figure(figsize=(6,4))\n",
    "sns.barplot(x=models, y=accuracies, palette='Set2')\n",
    "plt.ylabel(\"Accuracy (%)\")\n",
    "plt.title(\"Model Accuracy Comparison\")\n",
    "plt.ylim(0, 100)\n",
    "plt.show()"
   ]
  },
  {
   "cell_type": "markdown",
   "id": "71053210",
   "metadata": {},
   "source": [
    "## ✅ Conclusion"
   ]
  },
  {
   "cell_type": "markdown",
   "id": "55631306",
   "metadata": {},
   "source": [
    "\n",
    "- Logistic Regression achieved an accuracy of approximately **X%**.\n",
    "- Random Forest performed better with an accuracy of **Y%**.\n",
    "- This comparison shows how ensemble methods like Random Forest can improve performance over simpler models.\n",
    "\n",
    "You can use this notebook as a project demonstration of both **data science workflow** and **model evaluation**.\n"
   ]
  }
 ],
 "metadata": {},
 "nbformat": 4,
 "nbformat_minor": 5
}